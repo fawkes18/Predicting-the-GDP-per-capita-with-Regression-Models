{
 "cells": [
  {
   "cell_type": "markdown",
   "metadata": {},
   "source": [
    "## Data Collection"
   ]
  },
  {
   "cell_type": "code",
   "execution_count": 1,
   "metadata": {},
   "outputs": [],
   "source": [
    "import requests\n",
    "from bs4 import BeautifulSoup\n",
    "import pandas as pd\n",
    "from pandas.io.html import read_html"
   ]
  },
  {
   "cell_type": "markdown",
   "metadata": {},
   "source": [
    "### 1. GDP Per Capita"
   ]
  },
  {
   "cell_type": "code",
   "execution_count": 2,
   "metadata": {},
   "outputs": [],
   "source": [
    "url_1 = 'https://en.wikipedia.org/wiki/List_of_countries_by_GDP_(nominal)_per_capita'\n",
    "\n",
    "table_1 = read_html(url_1, index_col = 0, attrs={'class': 'wikitable sortable'})"
   ]
  },
  {
   "cell_type": "code",
   "execution_count": 3,
   "metadata": {},
   "outputs": [],
   "source": [
    "df1 = table_1[0]\n",
    "df1.set_index('Country/Territory', inplace = True)"
   ]
  },
  {
   "cell_type": "markdown",
   "metadata": {},
   "source": [
    "### 2. Population / Land Area / Migrants / Fertility Rate / Median Age / Urban Population"
   ]
  },
  {
   "cell_type": "code",
   "execution_count": 4,
   "metadata": {},
   "outputs": [],
   "source": [
    "url_2 = 'https://www.worldometers.info/world-population/population-by-country/'\n",
    "table_id = 'example2'\n",
    "\n",
    "response = requests.get(url_2)\n",
    "soup = BeautifulSoup(response.text, 'html.parser')\n",
    "\n",
    "table_2 = soup.find('table', attrs={'id': table_id})\n",
    "df2 = pd.read_html(str(table_2))\n",
    "df2 = df2[0]\n",
    "df2.drop(columns = ['#', 'Yearly Change', 'Net Change', 'Density (P/Km²)', 'World Share'], inplace=True)\n",
    "df2.set_index('Country (or dependency)', inplace = True)"
   ]
  },
  {
   "cell_type": "markdown",
   "metadata": {},
   "source": [
    "### 3. Temperature"
   ]
  },
  {
   "cell_type": "code",
   "execution_count": 5,
   "metadata": {},
   "outputs": [],
   "source": [
    "url_3 = 'https://en.wikipedia.org/wiki/List_of_countries_by_average_yearly_temperature'\n",
    "\n",
    "table_3 = read_html(url_3, index_col = 0, attrs={'class': 'wikitable sortable'})"
   ]
  },
  {
   "cell_type": "code",
   "execution_count": 6,
   "metadata": {},
   "outputs": [],
   "source": [
    "df3 = table_3[0]\n",
    "df3.rename(columns = {'Average yearly temperature (1961–1990, degrees Celsius)': 'average temperature'}, inplace = True)"
   ]
  },
  {
   "cell_type": "markdown",
   "metadata": {},
   "source": [
    "### 4. Global Peace Index"
   ]
  },
  {
   "cell_type": "code",
   "execution_count": 7,
   "metadata": {},
   "outputs": [],
   "source": [
    "url_4 = 'https://en.wikipedia.org/wiki/Global_Peace_Index'\n",
    "\n",
    "table_4 = read_html(url_4, index_col = 0, attrs = {'class': 'wikitable sortable'})"
   ]
  },
  {
   "cell_type": "code",
   "execution_count": 8,
   "metadata": {},
   "outputs": [
    {
     "name": "stderr",
     "output_type": "stream",
     "text": [
      "C:\\Users\\Marco\\anaconda3\\lib\\site-packages\\pandas\\core\\frame.py:4133: SettingWithCopyWarning: \n",
      "A value is trying to be set on a copy of a slice from a DataFrame\n",
      "\n",
      "See the caveats in the documentation: https://pandas.pydata.org/pandas-docs/stable/user_guide/indexing.html#returning-a-view-versus-a-copy\n",
      "  errors=errors,\n"
     ]
    }
   ],
   "source": [
    "df4 = table_4[0]\n",
    "df4 = df4[['2019 rank']]\n",
    "df4.rename(columns = {'2019 rank': 'peace_rk'}, inplace = True)"
   ]
  },
  {
   "cell_type": "markdown",
   "metadata": {},
   "source": [
    "### 5. Corruption Index"
   ]
  },
  {
   "cell_type": "code",
   "execution_count": 9,
   "metadata": {},
   "outputs": [],
   "source": [
    "url_5 = 'https://tradingeconomics.com/country-list/corruption-rank'\n",
    "\n",
    "table_5 = read_html(url_5, index_col = 0, attrs = {'class': 'table table-hover'} )"
   ]
  },
  {
   "cell_type": "code",
   "execution_count": 10,
   "metadata": {},
   "outputs": [],
   "source": [
    "df5 = table_5[0]\n",
    "df5 = df5[['Last']]\n",
    "df5.rename(columns = {'Last': 'corrupt_rk'}, inplace = True)"
   ]
  },
  {
   "cell_type": "markdown",
   "metadata": {},
   "source": [
    "### 6. Hapiness Score"
   ]
  },
  {
   "cell_type": "code",
   "execution_count": 11,
   "metadata": {},
   "outputs": [],
   "source": [
    "url_6 = 'https://en.wikipedia.org/wiki/World_Happiness_Report'\n",
    "\n",
    "table_6 = read_html(url_6, index_col = 0, attrs = {'class': 'wikitable sortable'})"
   ]
  },
  {
   "cell_type": "code",
   "execution_count": 12,
   "metadata": {},
   "outputs": [],
   "source": [
    "df6 = table_6[0]\n",
    "df6 = df6[['Country or region', 'Score']]\n",
    "df6.rename(columns = {'Score': 'hapiness_score'}, inplace = True)\n",
    "df6.set_index('Country or region', inplace = True)"
   ]
  },
  {
   "cell_type": "markdown",
   "metadata": {},
   "source": [
    "### 7. Alcohol Consumption"
   ]
  },
  {
   "cell_type": "code",
   "execution_count": 13,
   "metadata": {},
   "outputs": [],
   "source": [
    "url_7 = 'https://en.wikipedia.org/wiki/List_of_countries_by_alcohol_consumption_per_capita'\n",
    "table_id2 = 'WHO2010'\n",
    "\n",
    "response = requests.get(url_7)\n",
    "soup = BeautifulSoup(response.text, 'html.parser')\n",
    "\n",
    "table_7 = soup.find('table', attrs={'id': table_id2})\n",
    "df7 = pd.read_html(str(table_7))\n",
    "df7 = df7[0]\n",
    "df7 = df7[['Country', 'Total']]\n",
    "df7.rename(columns = {'Total': 'alcohol_consumption'}, inplace=True)\n",
    "df7.set_index('Country', inplace = True)"
   ]
  },
  {
   "cell_type": "markdown",
   "metadata": {},
   "source": [
    "### 8. Life Expectancy"
   ]
  },
  {
   "cell_type": "code",
   "execution_count": 14,
   "metadata": {},
   "outputs": [],
   "source": [
    "url_8 = 'https://www.worldometers.info/demographics/life-expectancy/'\n",
    "table_id3 = 'example2'\n",
    "\n",
    "response = requests.get(url_8)\n",
    "soup = BeautifulSoup(response.text, 'html.parser')\n",
    "\n",
    "table_8 = soup.find('table', attrs={'id': table_id3})\n",
    "df8 = pd.read_html(str(table_8))\n",
    "df8 = df8[0]\n",
    "df8 = df8[['Country', 'Life Expectancy (both sexes)']]\n",
    "df8.rename(columns = {'Life Expectancy (both sexes)': 'life_exp'}, inplace = True)\n",
    "df8.set_index('Country', inplace = True)"
   ]
  },
  {
   "cell_type": "markdown",
   "metadata": {},
   "source": [
    "### 9. Years of Schooling / Education Index"
   ]
  },
  {
   "cell_type": "code",
   "execution_count": 15,
   "metadata": {},
   "outputs": [],
   "source": [
    "url_9 = 'https://en.wikipedia.org/wiki/Education_Index'\n",
    "\n",
    "table_9 = read_html(url_9, index_col = 0, attrs = {'class': 'wikitable sortable mw-collapsible'})"
   ]
  },
  {
   "cell_type": "code",
   "execution_count": 16,
   "metadata": {},
   "outputs": [],
   "source": [
    "df9 = table_9[0]\n",
    "df9 = df9[['Country', 'EducationIndex', 'Mean years of schooling']]\n",
    "df9.rename(columns = {'EducationIndex': 'educ_index', 'Mean years of schooling': 'school_mean'}, inplace = True)\n",
    "df9.set_index('Country', inplace = True)"
   ]
  },
  {
   "cell_type": "markdown",
   "metadata": {},
   "source": [
    "### 10. Railway Network"
   ]
  },
  {
   "cell_type": "code",
   "execution_count": 17,
   "metadata": {},
   "outputs": [],
   "source": [
    "url_10 = 'https://en.wikipedia.org/wiki/List_of_countries_by_rail_transport_network_size'\n",
    "\n",
    "table_10 = read_html(url_10, index_col = 0, attrs = {'class': 'wikitable sortable'})"
   ]
  },
  {
   "cell_type": "code",
   "execution_count": 18,
   "metadata": {},
   "outputs": [],
   "source": [
    "df10 = table_10[0]"
   ]
  },
  {
   "cell_type": "code",
   "execution_count": 19,
   "metadata": {},
   "outputs": [],
   "source": [
    "df10 = df10[['Country', 'Length(km)']]\n",
    "df10.rename(columns = {'Length(km)': 'railway_len'}, inplace = True)\n",
    "df10.set_index('Country', inplace = True)"
   ]
  },
  {
   "cell_type": "markdown",
   "metadata": {},
   "source": [
    "### 11. Road Network"
   ]
  },
  {
   "cell_type": "code",
   "execution_count": 20,
   "metadata": {},
   "outputs": [],
   "source": [
    "url_11 = 'https://en.wikipedia.org/wiki/List_of_countries_by_road_network_size'\n",
    "\n",
    "table_11 = read_html(url_11, index_col = 0, attrs = {'class': 'wikitable sortable'})"
   ]
  },
  {
   "cell_type": "code",
   "execution_count": 21,
   "metadata": {},
   "outputs": [],
   "source": [
    "df11 = table_11[0]\n",
    "df11.columns = [''] * len(df11.columns)\n",
    "df11.columns = ['country', 'roads', 'expressways', 'date']\n",
    "df11.rename(columns = {'expressways': 'highway_len'}, inplace = True)\n",
    "df11 = df11[['country', 'highway_len']]\n",
    "df11.set_index('country', inplace = True)"
   ]
  },
  {
   "cell_type": "markdown",
   "metadata": {},
   "source": [
    "## Combining the Data"
   ]
  },
  {
   "cell_type": "code",
   "execution_count": 22,
   "metadata": {},
   "outputs": [],
   "source": [
    "all_df = [df2, df3, df4, df5, df6, df7, df8, df9, df10, df11]\n",
    "\n",
    "df = df1.join(all_df, how = 'outer')"
   ]
  },
  {
   "cell_type": "code",
   "execution_count": 23,
   "metadata": {},
   "outputs": [],
   "source": [
    "df.to_excel('capita.xlsx')"
   ]
  },
  {
   "cell_type": "code",
   "execution_count": null,
   "metadata": {},
   "outputs": [],
   "source": []
  },
  {
   "cell_type": "code",
   "execution_count": null,
   "metadata": {},
   "outputs": [],
   "source": []
  },
  {
   "cell_type": "code",
   "execution_count": null,
   "metadata": {},
   "outputs": [],
   "source": []
  },
  {
   "cell_type": "code",
   "execution_count": null,
   "metadata": {},
   "outputs": [],
   "source": []
  }
 ],
 "metadata": {
  "kernelspec": {
   "display_name": "Python 3",
   "language": "python",
   "name": "python3"
  },
  "language_info": {
   "codemirror_mode": {
    "name": "ipython",
    "version": 3
   },
   "file_extension": ".py",
   "mimetype": "text/x-python",
   "name": "python",
   "nbconvert_exporter": "python",
   "pygments_lexer": "ipython3",
   "version": "3.7.6"
  }
 },
 "nbformat": 4,
 "nbformat_minor": 4
}
